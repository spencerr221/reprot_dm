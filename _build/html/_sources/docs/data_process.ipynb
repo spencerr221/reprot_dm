{
 "cells": [
  {
   "cell_type": "markdown",
   "id": "c7b2b676",
   "metadata": {},
   "source": [
    "(data_process)=\n",
    "\n",
    "# Data Processing \n",
    "\n",
    "## Database of our project\n",
    "\n",
    "The Global Terrorism Database (GTD) is an open-source database including information on terrorist attacks around the world from 1970 through 2017 (with annual updates planned for the future). The GTD includes systematic data on domestic as well as international terrorist incidents that have occurred during this time period and now includes more than 170,000 cases. The database is maintained by researchers at the National Consortium for the Study of Terrorism and Responses to Terrorism (START), headquartered at the University of Maryland.\n",
    "\n",
    "Based on 46 years data obtained from The Global Terrorism Database (GTD), we can catch these following facts: Iraq is the largest country with terrorism incidents (22130 incidents).\n",
    "Andorra, Antigua and Barbuda, Brunei, Falkland Islands, New Hebrides, North Korea, South Vietnam, St. Lucia, Vatican, Wallis and Futuna are the safest countries with only 1 incident from 1970 - 2016. The top 10 countries with the most terrorism incidents, there are 2 countries from Europe: United Kingdom and Turkey.\n",
    "\n",
    "The Global Terrorism Database(GTD)\n",
    "![data_1](../data_1.png)\n",
    "\n",
    "### Rename the tags of the data and check the missing values\n",
    "```{code-block}\n",
    "terror = pd.read_csv(\"globaldata.csv\",encoding='ISO-8859-1')\n",
    "plt.figure(figsize=(16,6))\n",
    "sns.heatmap(terror.isnull(),cmap='viridis',cbar=False)\n",
    "terror.rename(columns={'iyear':'Year','imonth':'Month','iday':'Day','country':'Country_Code','country_txt':'Country_Name','region':'Region_Code','region_txt':'Region_Name','city':'City','attacktype1':'AttackType_Code','attacktype1_txt':'AttackType_Name','targtype1':'Targtype_Code','targtype1_txt':'Targtype_Name','gname':'Group_Name','weaptype1':'Weaptype1_Code','weaptype1_txt':'Weaptype1_Name','nkill':'Killed','nwound':'Wounded','propextent_txt':'Property_Damage'},inplace=True)\n",
    "terror['casualities']=terror['Killed']+terror['Wounded']\n",
    "terror=terror[['Year','Month','Day','Country_Code','Country_Name','Region_Code','Region_Name','City','latitude','longitude','AttackType_Code','AttackType_Name','Targtype_Code','Targtype_Name','Group_Name','Weaptype1_Code','Weaptype1_Name','Killed','Wounded','casualities','Property_Damage']]\n",
    "\n",
    "```\n",
    "![data_5](../data_5.png)\n",
    "\n",
    "```{code-block} \n",
    "terror = terror.dropna()\n",
    "terror.head(5)\n",
    "plt.figure(figsize=(16,6))\n",
    "sns.heatmap(terror.isnull(),cmap='viridis',cbar=False)\n",
    "```\n",
    "The image above shows the heatmap of the database before we drop the null value of the feature, the yellow part represent for the missing values. According to our calculation, the volume of the data we dropped, is too small compared with the whole dataset. So that we thought it would not influence the performance of our prediction. \n",
    "\n",
    "![data_6](../data_6.png)\n",
    "\n",
    "After the pre-processing, the whole heatmap became purple, so that we got the database without missing values."
   ]
  }
 ],
 "metadata": {
  "jupytext": {
   "text_representation": {
    "extension": ".md",
    "format_name": "myst"
   }
  },
  "kernelspec": {
   "display_name": "Python 3",
   "language": "python",
   "name": "python3"
  },
  "language_info": {
   "codemirror_mode": {
    "name": "ipython",
    "version": 3
   },
   "file_extension": ".py",
   "mimetype": "text/x-python",
   "name": "python",
   "nbconvert_exporter": "python",
   "pygments_lexer": "ipython3",
   "version": "3.7.11"
  },
  "source_map": [
   10
  ]
 },
 "nbformat": 4,
 "nbformat_minor": 5
}